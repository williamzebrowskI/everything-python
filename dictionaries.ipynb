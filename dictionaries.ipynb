{
 "cells": [
  {
   "cell_type": "code",
   "execution_count": 53,
   "metadata": {},
   "outputs": [],
   "source": [
    "a = {}"
   ]
  },
  {
   "cell_type": "code",
   "execution_count": 92,
   "metadata": {},
   "outputs": [
    {
     "name": "stdout",
     "output_type": "stream",
     "text": [
      "{'a': 1, 'b': 2, 'c': 3, 'd': 4}\n"
     ]
    }
   ],
   "source": [
    "#Add items to the dictionarty\n",
    "a = {\"a\":1, \"b\":2, \"c\":3, \"d\": 4}\n",
    "print(a)"
   ]
  },
  {
   "cell_type": "code",
   "execution_count": 93,
   "metadata": {},
   "outputs": [
    {
     "name": "stdout",
     "output_type": "stream",
     "text": [
      "{'a': 1, 'b': 2, 'c': 3, 'd': 4, 'e': 5}\n"
     ]
    }
   ],
   "source": [
    "#Add an Entry\n",
    "a[\"e\"] = 5\n",
    "print(a)"
   ]
  },
  {
   "cell_type": "code",
   "execution_count": 56,
   "metadata": {},
   "outputs": [
    {
     "name": "stdout",
     "output_type": "stream",
     "text": [
      "{'a': 1, 'b': 2, 'c': 3, 'd': 4}\n"
     ]
    }
   ],
   "source": [
    "#Delete an entry\n",
    "del a['e']\n",
    "print(a)"
   ]
  },
  {
   "cell_type": "code",
   "execution_count": 64,
   "metadata": {},
   "outputs": [
    {
     "data": {
      "text/plain": [
       "4"
      ]
     },
     "execution_count": 64,
     "metadata": {},
     "output_type": "execute_result"
    }
   ],
   "source": [
    "len(a) #length of dictionary"
   ]
  },
  {
   "cell_type": "code",
   "execution_count": 52,
   "metadata": {},
   "outputs": [],
   "source": [
    "a.clear() #empty dictionary"
   ]
  },
  {
   "cell_type": "code",
   "execution_count": 44,
   "metadata": {},
   "outputs": [
    {
     "name": "stdout",
     "output_type": "stream",
     "text": [
      "{}\n"
     ]
    }
   ],
   "source": [
    "a=dict() # dict: creates an new dictionary / clears above dictionary"
   ]
  },
  {
   "cell_type": "code",
   "execution_count": 67,
   "metadata": {},
   "outputs": [
    {
     "name": "stdout",
     "output_type": "stream",
     "text": [
      "1\n"
     ]
    }
   ],
   "source": [
    "if ('a' in a):   #Function working with dictionary\n",
    "    print(a['a'])\n",
    "else:\n",
    "    print(\"not found\")"
   ]
  },
  {
   "cell_type": "code",
   "execution_count": 71,
   "metadata": {},
   "outputs": [
    {
     "name": "stdout",
     "output_type": "stream",
     "text": [
      "key exists\n",
      "{'a': 1, 'b': 2, 'c': 3, 'd': 4, 'e': 5}\n"
     ]
    }
   ],
   "source": [
    "if (\"e\" not in a):  #Function working with dictionary\n",
    "    a[\"e\"]=5\n",
    "else:\n",
    "    print(\"key exists\")\n",
    "\n",
    "print(a)"
   ]
  },
  {
   "cell_type": "code",
   "execution_count": 82,
   "metadata": {},
   "outputs": [
    {
     "name": "stdout",
     "output_type": "stream",
     "text": [
      "1\n",
      "2\n",
      "3\n",
      "4\n",
      "5\n"
     ]
    }
   ],
   "source": [
    "for number in a:    #For Loop in dictionary / notice sqr brackets\n",
    "    print(a[number])"
   ]
  },
  {
   "cell_type": "code",
   "execution_count": 76,
   "metadata": {},
   "outputs": [
    {
     "name": "stdout",
     "output_type": "stream",
     "text": [
      "1\n",
      "not found\n"
     ]
    }
   ],
   "source": [
    "print (a.get ('a', \"not found\"))  # get value of key -returns 1\n",
    "print (a.get ('x', \"not found\"))  # no value found because there is no key called X"
   ]
  },
  {
   "cell_type": "code",
   "execution_count": 94,
   "metadata": {},
   "outputs": [
    {
     "name": "stdout",
     "output_type": "stream",
     "text": [
      "dict_keys(['a', 'b', 'c', 'd', 'e'])\n",
      "dict_values([1, 2, 3, 4, 5])\n",
      "dict_items([('a', 1), ('b', 2), ('c', 3), ('d', 4), ('e', 5)])\n"
     ]
    }
   ],
   "source": [
    "print(a.keys()) # List all keys\n",
    "print(a.values()) # List all values\n",
    "print(a.items()) # List both keys and values"
   ]
  },
  {
   "cell_type": "code",
   "execution_count": 96,
   "metadata": {},
   "outputs": [
    {
     "name": "stdout",
     "output_type": "stream",
     "text": [
      "['a', 'b', 'c', 'd', 'e']\n"
     ]
    }
   ],
   "source": [
    "max(a) # returns keys which has the largest value in dict\n",
    "min(a) # returns keys which has the smallest value in dict\n",
    "# a.pop('a') # returns the value associated with key, and removes the key-value pair from dict\n",
    "sorted(a) # sorts list\n",
    "print(sorted(a.keys()))  #sort by keys"
   ]
  },
  {
   "cell_type": "code",
   "execution_count": 100,
   "metadata": {},
   "outputs": [
    {
     "name": "stdout",
     "output_type": "stream",
     "text": [
      "{1: 1, 2: 4, 3: 9, 4: 16, 5: 25, 6: 36, 7: 49, 8: 64, 9: 81, 10: 100}\n",
      "{1: 1, 2: 4, 3: 27, 4: 256, 5: 3125, 6: 46656, 7: 823543, 8: 16777216, 9: 387420489, 10: 10000000000}\n"
     ]
    }
   ],
   "source": [
    "#Dictionary composition: finding the sqr of each number in range 1, 11 with cooresponding value\n",
    "square_dict = {num: num * num for num in range(1, 11)}\n",
    "cube_dict = {num: num ** num for num in range(1, 11)} \n",
    "\n",
    "print(square_dict)\n",
    "print(cube_dict)"
   ]
  },
  {
   "cell_type": "code",
   "execution_count": 1,
   "metadata": {},
   "outputs": [
    {
     "name": "stdout",
     "output_type": "stream",
     "text": [
      "{'jack': 38, 'michael': 48, 'guido': 57, 'john': 33}\n",
      "{'jack': 38, 'michael': 48}\n",
      "{'guido': 57, 'john': 33}\n"
     ]
    }
   ],
   "source": [
    "#Dictionary composition:\n",
    "orig = {'jack': 38, 'michael': 48, 'guido': 57, 'john': 33}\n",
    "\n",
    "even_dict = {k: v for (k, v) in orig.items() if v % 2 == 0}      # return key/value that are even numbers\n",
    "new_dict = {k: v for (k, v) in orig.items() if v % 2 != 0 if v > 10}   # return key/value that are Not even numbers and only value greater than 10.\n",
    "new1 = {k: v for (k, v) in orig.items()}  #Returns all k/v items in dictionary.\n",
    "print(new1)\n",
    "print(even_dict)\n",
    "print(new_dict)"
   ]
  },
  {
   "cell_type": "code",
   "execution_count": 3,
   "metadata": {},
   "outputs": [
    {
     "name": "stdout",
     "output_type": "stream",
     "text": [
      "{'milk': 0.7752, 'coffee': 1.9, 'bread': 1.9}\n"
     ]
    }
   ],
   "source": [
    "#item price in dollars\n",
    "old_price = {'milk': 1.02, 'coffee': 2.5, 'bread': 2.5}\n",
    "\n",
    "discount = 0.76     #discount in cents\n",
    "new_price = {k: v*discount for (k, v) in old_price.items()}    #multiply each value in dict() by the discount it all times to get new price.\n",
    "print(new_price)"
   ]
  },
  {
   "cell_type": "code",
   "execution_count": 7,
   "metadata": {},
   "outputs": [
    {
     "name": "stdout",
     "output_type": "stream",
     "text": [
      "{'towels': 10, 'coffee': 30}\n"
     ]
    }
   ],
   "source": [
    "sold = {'towels': 10, 'coffee': 30, 'bread': 6}   #items\n",
    "t = {k: v for (k, v) in sold.items() if v >= 5 if 'o' in k}   #Return items if greater or eql to 5 and if a letter 'o' is in the key.  \n",
    "b = {k: v for (k, v) in sold.items() }    #print all key/value iteams.\n",
    "print(t)"
   ]
  },
  {
   "cell_type": "code",
   "execution_count": 26,
   "metadata": {},
   "outputs": [
    {
     "name": "stdout",
     "output_type": "stream",
     "text": [
      "{'jack': 'young', 'michael': 'old', 'guido': 'old', 'john': 'young'}\n"
     ]
    }
   ],
   "source": [
    "original_dict = {'jack': 38, 'michael': 48, 'guido': 57, 'john': 33}   #Dictionary\n",
    "new_dict_1 = {k: ('old' if v > 40 else 'young') for (k, v) in original_dict.items()}  #replaces value w/ a string 'old'/'young' - If value is over 40, label old, otherwise label young\n",
    "print(new_dict_1)"
   ]
  },
  {
   "cell_type": "markdown",
   "metadata": {},
   "source": [
    "Defaultdict is a container like dictionaries present in the module collections. Defaultdict is a sub-class of the dictionary class that returns a dictionary-like object. The functionality of both dictionaries and defaultdict are almost same except for the fact that defaultdict never raises a KeyError. It provides a default value for the key that does not exists."
   ]
  },
  {
   "cell_type": "code",
   "execution_count": 1,
   "metadata": {},
   "outputs": [
    {
     "name": "stdout",
     "output_type": "stream",
     "text": [
      "['noodles', 'rice', 'banan', 'sweets', 'ramen', 'souffle', 'apricot', 'apple', 'bread']\n",
      "a :  apricot apple\n",
      "b :  banan bread\n",
      "n :  noodles\n",
      "r :  rice ramen\n",
      "s :  sweets souffle\n"
     ]
    }
   ],
   "source": [
    "\n",
    "from collections import defaultdict\n",
    "\n",
    "inputs = \"noodles, rice, banan, sweets, ramen, souffle, apricot, apple, bread\"\n",
    "\n",
    "groups = defaultdict(list)\n",
    "\n",
    "lst = inputs.split(', ')\n",
    "print(lst)\n",
    "\n",
    "for item in lst:\n",
    "    groups[item[0]].append(item)\n",
    "\n",
    "for k, val in sorted(groups.items()):\n",
    "    print(k, \": \", *val)          # *val to expand the list content\n"
   ]
  },
  {
   "cell_type": "code",
   "execution_count": 18,
   "metadata": {},
   "outputs": [
    {
     "name": "stdout",
     "output_type": "stream",
     "text": [
      "defaultdict(<class 'list'>, {'January': [9, 10], 'Februrary': [10], 'June': [12, 14], 'March': [15, 16]})\n"
     ]
    }
   ],
   "source": [
    "sample_data = [[\"January\", 9],[\"Februrary\", 10], [\"June\", 12], [\"March\", 15], [\"January\", 10],[\"June\", 14], [\"March\", 16]]\n",
    "#d = {\"January\" : [9,10], \"February\":[10], \"June\":[12,14], \"March\": [15,16]}\n",
    "\n",
    "# setdefault creates a list as values\n",
    "\n",
    "d = defaultdict(list)\n",
    "for category, value in sample_data:\n",
    "    d.setdefault(category, []).append(value)\n",
    "\n",
    "print(d)"
   ]
  }
 ],
 "metadata": {
  "kernelspec": {
   "display_name": "Python 3.10.4 64-bit",
   "language": "python",
   "name": "python3"
  },
  "language_info": {
   "codemirror_mode": {
    "name": "ipython",
    "version": 3
   },
   "file_extension": ".py",
   "mimetype": "text/x-python",
   "name": "python",
   "nbconvert_exporter": "python",
   "pygments_lexer": "ipython3",
   "version": "3.10.4"
  },
  "orig_nbformat": 4,
  "vscode": {
   "interpreter": {
    "hash": "aee8b7b246df8f9039afb4144a1f6fd8d2ca17a180786b69acc140d282b71a49"
   }
  }
 },
 "nbformat": 4,
 "nbformat_minor": 2
}
