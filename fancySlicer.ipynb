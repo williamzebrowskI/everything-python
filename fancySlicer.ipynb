{
 "cells": [
  {
   "cell_type": "code",
   "execution_count": 7,
   "metadata": {},
   "outputs": [
    {
     "ename": "TypeError",
     "evalue": "FancySlicer() takes no arguments",
     "output_type": "error",
     "traceback": [
      "\u001b[0;31m---------------------------------------------------------------------------\u001b[0m",
      "\u001b[0;31mTypeError\u001b[0m                                 Traceback (most recent call last)",
      "\u001b[1;32m/Users/bdtmember/Desktop/Python/fancySlicer.ipynb Cell 1'\u001b[0m in \u001b[0;36m<cell line: 21>\u001b[0;34m()\u001b[0m\n\u001b[1;32m      <a href='vscode-notebook-cell:/Users/bdtmember/Desktop/Python/fancySlicer.ipynb#ch0000000?line=5'>6</a>\u001b[0m \u001b[39mdef\u001b[39;00m \u001b[39m__getitem__\u001b[39m(\u001b[39mself\u001b[39m, spec) :\n\u001b[1;32m      <a href='vscode-notebook-cell:/Users/bdtmember/Desktop/Python/fancySlicer.ipynb#ch0000000?line=6'>7</a>\u001b[0m     \u001b[39mmatch\u001b[39;00m spec:\n\u001b[1;32m      <a href='vscode-notebook-cell:/Users/bdtmember/Desktop/Python/fancySlicer.ipynb#ch0000000?line=7'>8</a>\u001b[0m         \u001b[39mcase\u001b[39;00m \u001b[39mint\u001b[39m(n):\n\u001b[1;32m      <a href='vscode-notebook-cell:/Users/bdtmember/Desktop/Python/fancySlicer.ipynb#ch0000000?line=8'>9</a>\u001b[0m             \u001b[39mreturn\u001b[39;00m \u001b[39mself\u001b[39m\u001b[39m.\u001b[39ms[n]\n\u001b[0;32m   (...)\u001b[0m\n\u001b[1;32m     <a href='vscode-notebook-cell:/Users/bdtmember/Desktop/Python/fancySlicer.ipynb#ch0000000?line=17'>18</a>\u001b[0m         \u001b[39mcase\u001b[39;00m \u001b[39m_\u001b[39;00m:\n\u001b[1;32m     <a href='vscode-notebook-cell:/Users/bdtmember/Desktop/Python/fancySlicer.ipynb#ch0000000?line=18'>19</a>\u001b[0m             \u001b[39mraise\u001b[39;00m TvpeError(\u001b[39mf\u001b[39m\u001b[39m\"\u001b[39m\u001b[39mNot sure what [\u001b[39m\u001b[39m{\u001b[39;00mspec\u001b[39m!r}\u001b[39;00m\u001b[39m] should do! \u001b[39m\u001b[39m\"\u001b[39m)\n\u001b[0;32m---> <a href='vscode-notebook-cell:/Users/bdtmember/Desktop/Python/fancySlicer.ipynb#ch0000000?line=20'>21</a>\u001b[0m hw \u001b[39m=\u001b[39m FancySlicer(\u001b[39m'\u001b[39;49m\u001b[39mHello, world!\u001b[39;49m\u001b[39m'\u001b[39;49m)\n\u001b[1;32m     <a href='vscode-notebook-cell:/Users/bdtmember/Desktop/Python/fancySlicer.ipynb#ch0000000?line=22'>23</a>\u001b[0m hw[\u001b[39m0\u001b[39m]\n",
      "\u001b[0;31mTypeError\u001b[0m: FancySlicer() takes no arguments"
     ]
    }
   ],
   "source": [
    "#@dataclass\n",
    "class FancySlicer:\n",
    "    \"\"\"Slice a string by integers or strings!\"\"\"\n",
    "    S: str\n",
    "\n",
    "def __getitem__(self, spec) :\n",
    "    match spec:\n",
    "        case int(n):\n",
    "            return self.s[n]\n",
    "\n",
    "        case slice (start=int (a),stop=b, step=c):\n",
    "            return self.s[a:b:c]\n",
    "        case slice (start=str(a),stop=b, step=c) if isinstance(b, str|None):\n",
    "            ia = self.s.find(a)\n",
    "            ib = None if b is None else self.s.find (b, ia)\n",
    "            return self.s[ia:ib:c]\n",
    "        \n",
    "        case _:\n",
    "            raise TvpeError(f\"Not sure what [{spec!r}] should do! \")\n",
    "\n",
    "hw = FancySlicer()\n",
    "\n",
    "hw[0]"
   ]
  }
 ],
 "metadata": {
  "kernelspec": {
   "display_name": "Python 3.10.4 64-bit",
   "language": "python",
   "name": "python3"
  },
  "language_info": {
   "codemirror_mode": {
    "name": "ipython",
    "version": 3
   },
   "file_extension": ".py",
   "mimetype": "text/x-python",
   "name": "python",
   "nbconvert_exporter": "python",
   "pygments_lexer": "ipython3",
   "version": "3.10.4"
  },
  "orig_nbformat": 4,
  "vscode": {
   "interpreter": {
    "hash": "aee8b7b246df8f9039afb4144a1f6fd8d2ca17a180786b69acc140d282b71a49"
   }
  }
 },
 "nbformat": 4,
 "nbformat_minor": 2
}
