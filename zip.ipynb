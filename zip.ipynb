{
 "cells": [
  {
   "cell_type": "markdown",
   "metadata": {},
   "source": [
    "# Zip\n",
    "\n",
    "Zip takes two or more sequences and returns a list of tuples where each tuple contains one element from eah sequence.  Zip is an 'Iterator', which is any object that iterates through a sequence.  Iterators are similiar to lists in some ways, but unlike lists, you can't use an index to select an element from an iterator."
   ]
  },
  {
   "cell_type": "code",
   "execution_count": 2,
   "metadata": {},
   "outputs": [
    {
     "data": {
      "text/plain": [
       "<zip at 0x108170300>"
      ]
     },
     "execution_count": 2,
     "metadata": {},
     "output_type": "execute_result"
    }
   ],
   "source": [
    "s = 'abc'\n",
    "t = [0, 1, 2]\n",
    "\n",
    "zip(s, t)"
   ]
  },
  {
   "cell_type": "code",
   "execution_count": 3,
   "metadata": {},
   "outputs": [
    {
     "name": "stdout",
     "output_type": "stream",
     "text": [
      "('a', 0)\n",
      "('b', 1)\n",
      "('c', 2)\n"
     ]
    }
   ],
   "source": [
    "for pair in zip(s, t):\n",
    "    print (pair)"
   ]
  },
  {
   "cell_type": "code",
   "execution_count": 4,
   "metadata": {},
   "outputs": [
    {
     "data": {
      "text/plain": [
       "[('a', 0), ('b', 1), ('c', 2)]"
      ]
     },
     "execution_count": 4,
     "metadata": {},
     "output_type": "execute_result"
    }
   ],
   "source": [
    "# If you want to use list operators and methods, you can use a zip object to make a list:\n",
    "\n",
    "list(zip(s, t))"
   ]
  },
  {
   "cell_type": "code",
   "execution_count": 22,
   "metadata": {},
   "outputs": [
    {
     "data": {
      "text/plain": [
       "[('A', 'E'), ('n', 'l'), ('n', 'k')]"
      ]
     },
     "execution_count": 22,
     "metadata": {},
     "output_type": "execute_result"
    }
   ],
   "source": [
    "# If the sequences are not the same length, the result has the length of the shorter one:\n",
    "\n",
    "list(zip('Anne', 'Elk'))"
   ]
  },
  {
   "cell_type": "code",
   "execution_count": 23,
   "metadata": {},
   "outputs": [
    {
     "name": "stdout",
     "output_type": "stream",
     "text": [
      "[(1, 'a'), (2, 'b'), (3, 'c'), (4, 'd'), (5, None)]\n"
     ]
    }
   ],
   "source": [
    "#But, let's see how we can overcome this limitation using the zip_longest() func.\n",
    "\n",
    "from itertools import zip_longest\n",
    "\n",
    "L1 = [1,2,3,4,5]\n",
    "L2 = ['a','b','c','d']\n",
    "\n",
    "zipL_L1L2 = zip_longest(L1,L2)\n",
    "print(list(zipL_L1L2))"
   ]
  },
  {
   "cell_type": "code",
   "execution_count": 7,
   "metadata": {},
   "outputs": [
    {
     "name": "stdout",
     "output_type": "stream",
     "text": [
      "0 a\n",
      "1 b\n",
      "2 c\n"
     ]
    }
   ],
   "source": [
    "# You can use a tuple assignment in a for loop to traverse a list of tuples:\n",
    "\n",
    "k = list(zip(s, t))\n",
    "for letter, number in k:\n",
    "    print(number, letter)"
   ]
  },
  {
   "cell_type": "code",
   "execution_count": 12,
   "metadata": {},
   "outputs": [
    {
     "data": {
      "text/plain": [
       "True"
      ]
     },
     "execution_count": 12,
     "metadata": {},
     "output_type": "execute_result"
    }
   ],
   "source": [
    "#If you combine zip, for and tuple assignment, you get a useful idiom for traversing two (or more) sequences at the same time\n",
    "#For example: below takes two sequences, t1 and t2, and retunrs True if there is an index i such as such that t1[i] == t2[i]\n",
    "\n",
    "t1 = 'a', 'b', 'c'\n",
    "t2 = 0, 1, 2\n",
    "\n",
    "def has_match(t1, t2):\n",
    "    for x, y in zip(t1, t2):\n",
    "        if x == y:\n",
    "            return True\n",
    "    return False\n",
    "\n",
    "has_match(t1, t2)"
   ]
  },
  {
   "cell_type": "code",
   "execution_count": 14,
   "metadata": {},
   "outputs": [
    {
     "name": "stdout",
     "output_type": "stream",
     "text": [
      "0 a\n",
      "1 b\n",
      "2 c\n"
     ]
    }
   ],
   "source": [
    "# If you need to traverse the elements of a sequence and their indices, you can use the built-in function enumerate:\n",
    "\n",
    "for index, element in enumerate('abc'):\n",
    "    print(index, element)\n",
    "\n",
    "# The result from enumerate is an enumberate object, which iterates a sequence of pairs, each pair contains an index (starting at 0)\n",
    "# and an element from the given sequence."
   ]
  },
  {
   "cell_type": "code",
   "execution_count": 16,
   "metadata": {},
   "outputs": [
    {
     "name": "stdout",
     "output_type": "stream",
     "text": [
      "[(1,), (2,), (3,), (4,), (5,)]\n"
     ]
    }
   ],
   "source": [
    "# When one argument is passed with Zip, it'll return an iterable of 1-tuples.\n",
    "\n",
    "L1 = [1,2,3,4,5]\n",
    "zip_L1 = zip(L1)\n",
    "print(list(zip_L1))"
   ]
  },
  {
   "cell_type": "code",
   "execution_count": 19,
   "metadata": {},
   "outputs": [
    {
     "name": "stdout",
     "output_type": "stream",
     "text": [
      "You bought 5 apples for $2.5\n",
      "You bought 7 oranges for $5.25\n",
      "You bought 3 bananas for $1.5\n",
      "You bought 4 melons for $4\n"
     ]
    }
   ],
   "source": [
    "#Let's now create a more intuitive example. The code snippet below shows how we can use zip() to zip together 3 lists and perform meaningful operations.\n",
    "#Given a list of fruits, their prices and the quantities that you purchased, the total amount spent on each item is printed out.\n",
    "\n",
    "fruits = [\"apples\",\"oranges\",\"bananas\",\"melons\"]\n",
    "prices = [0.50,0.75,0.50,1]\n",
    "quantities = [5,7,3,4]\n",
    "\n",
    "for fruit, price, quantity in zip(fruits, prices, quantities):\n",
    "    print(f'You bought {quantity} {fruit} for ${price*quantity}')"
   ]
  },
  {
   "cell_type": "code",
   "execution_count": 1,
   "metadata": {},
   "outputs": [
    {
     "data": {
      "text/plain": [
       "{'name': 'John', 'last_name': 'Doe', 'age': '45', 'job': 'Python Developer'}"
      ]
     },
     "execution_count": 1,
     "metadata": {},
     "output_type": "execute_result"
    }
   ],
   "source": [
    "# Create a dictionarty from Lists using zip()\n",
    "\n",
    "fields = ['name', 'last_name', 'age', 'job']\n",
    "values = ['John', 'Doe', '45', 'Python Developer']\n",
    "\n",
    "a_dict = dict(zip(fields, values))\n",
    "a_dict"
   ]
  },
  {
   "cell_type": "code",
   "execution_count": null,
   "metadata": {},
   "outputs": [],
   "source": []
  }
 ],
 "metadata": {
  "kernelspec": {
   "display_name": "Python 3.10.4 64-bit",
   "language": "python",
   "name": "python3"
  },
  "language_info": {
   "codemirror_mode": {
    "name": "ipython",
    "version": 3
   },
   "file_extension": ".py",
   "mimetype": "text/x-python",
   "name": "python",
   "nbconvert_exporter": "python",
   "pygments_lexer": "ipython3",
   "version": "3.10.4"
  },
  "orig_nbformat": 4,
  "vscode": {
   "interpreter": {
    "hash": "aee8b7b246df8f9039afb4144a1f6fd8d2ca17a180786b69acc140d282b71a49"
   }
  }
 },
 "nbformat": 4,
 "nbformat_minor": 2
}
