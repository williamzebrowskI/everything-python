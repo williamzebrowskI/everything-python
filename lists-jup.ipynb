{
 "cells": [
  {
   "cell_type": "code",
   "execution_count": 22,
   "metadata": {},
   "outputs": [
    {
     "name": "stdout",
     "output_type": "stream",
     "text": [
      "Example:\n",
      "[2, 3, 4, 1]\n"
     ]
    },
    {
     "ename": "TypeError",
     "evalue": "'NoneType' object is not iterable",
     "output_type": "error",
     "traceback": [
      "\u001b[0;31m---------------------------------------------------------------------------\u001b[0m",
      "\u001b[0;31mTypeError\u001b[0m                                 Traceback (most recent call last)",
      "\u001b[1;32m/Users/bdtmember/Desktop/Python/lists-jup.ipynb Cell 1'\u001b[0m in \u001b[0;36m<cell line: 13>\u001b[0;34m()\u001b[0m\n\u001b[1;32m     <a href='vscode-notebook-cell:/Users/bdtmember/Desktop/Python/lists-jup.ipynb#ch0000000?line=16'>17</a>\u001b[0m \u001b[39m# These \"asserts\" are used for self-checking and not for an auto-testing\u001b[39;00m\n\u001b[1;32m     <a href='vscode-notebook-cell:/Users/bdtmember/Desktop/Python/lists-jup.ipynb#ch0000000?line=17'>18</a>\u001b[0m \u001b[39massert\u001b[39;00m \u001b[39mlist\u001b[39m(replace_first([\u001b[39m1\u001b[39m, \u001b[39m2\u001b[39m, \u001b[39m3\u001b[39m, \u001b[39m4\u001b[39m])) \u001b[39m==\u001b[39m [\u001b[39m2\u001b[39m, \u001b[39m3\u001b[39m, \u001b[39m4\u001b[39m, \u001b[39m1\u001b[39m]\n\u001b[0;32m---> <a href='vscode-notebook-cell:/Users/bdtmember/Desktop/Python/lists-jup.ipynb#ch0000000?line=18'>19</a>\u001b[0m \u001b[39massert\u001b[39;00m \u001b[39mlist\u001b[39;49m(replace_first([\u001b[39m1\u001b[39;49m])) \u001b[39m==\u001b[39m [\u001b[39m1\u001b[39m]\n\u001b[1;32m     <a href='vscode-notebook-cell:/Users/bdtmember/Desktop/Python/lists-jup.ipynb#ch0000000?line=19'>20</a>\u001b[0m \u001b[39massert\u001b[39;00m \u001b[39mlist\u001b[39m(replace_first([])) \u001b[39m==\u001b[39m []\n\u001b[1;32m     <a href='vscode-notebook-cell:/Users/bdtmember/Desktop/Python/lists-jup.ipynb#ch0000000?line=20'>21</a>\u001b[0m \u001b[39mprint\u001b[39m(\u001b[39m\"\u001b[39m\u001b[39mCoding complete? Click \u001b[39m\u001b[39m'\u001b[39m\u001b[39mCheck\u001b[39m\u001b[39m'\u001b[39m\u001b[39m to earn cool rewards!\u001b[39m\u001b[39m\"\u001b[39m)\n",
      "\u001b[0;31mTypeError\u001b[0m: 'NoneType' object is not iterable"
     ]
    }
   ],
   "source": [
    "from typing import Iterable\n",
    "\n",
    "\n",
    "def replace_first(items: list) -> Iterable:\n",
    "            k = items[0]\n",
    "            for x in items:\n",
    "                if x != k:\n",
    "                    items.append(k)\n",
    "                    del items[0]\n",
    "                    return items\n",
    "\n",
    "\n",
    "if __name__ == \"__main__\":\n",
    "    print(\"Example:\")\n",
    "    print(list(replace_first([1, 2, 3, 4])))\n",
    "\n",
    "    # These \"asserts\" are used for self-checking and not for an auto-testing\n",
    "    assert list(replace_first([1, 2, 3, 4])) == [2, 3, 4, 1]\n",
    "    assert list(replace_first([1])) == [1]\n",
    "    assert list(replace_first([])) == []\n",
    "    print(\"Coding complete? Click 'Check' to earn cool rewards!\")\n",
    "\n"
   ]
  },
  {
   "cell_type": "code",
   "execution_count": 26,
   "metadata": {},
   "outputs": [
    {
     "name": "stdout",
     "output_type": "stream",
     "text": [
      "Example:\n",
      "[2, 3, 4, 1]\n"
     ]
    },
    {
     "ename": "IndexError",
     "evalue": "list index out of range",
     "output_type": "error",
     "traceback": [
      "\u001b[0;31m---------------------------------------------------------------------------\u001b[0m",
      "\u001b[0;31mIndexError\u001b[0m                                Traceback (most recent call last)",
      "\u001b[1;32m/Users/bdtmember/Desktop/Python/lists-jup.ipynb Cell 2'\u001b[0m in \u001b[0;36m<cell line: 9>\u001b[0;34m()\u001b[0m\n\u001b[1;32m     <a href='vscode-notebook-cell:/Users/bdtmember/Desktop/Python/lists-jup.ipynb#ch0000001?line=13'>14</a>\u001b[0m \u001b[39massert\u001b[39;00m \u001b[39mlist\u001b[39m(replace_first([\u001b[39m1\u001b[39m, \u001b[39m2\u001b[39m, \u001b[39m3\u001b[39m, \u001b[39m4\u001b[39m])) \u001b[39m==\u001b[39m [\u001b[39m2\u001b[39m, \u001b[39m3\u001b[39m, \u001b[39m4\u001b[39m, \u001b[39m1\u001b[39m]\n\u001b[1;32m     <a href='vscode-notebook-cell:/Users/bdtmember/Desktop/Python/lists-jup.ipynb#ch0000001?line=14'>15</a>\u001b[0m \u001b[39massert\u001b[39;00m \u001b[39mlist\u001b[39m(replace_first([\u001b[39m1\u001b[39m])) \u001b[39m==\u001b[39m [\u001b[39m1\u001b[39m]\n\u001b[0;32m---> <a href='vscode-notebook-cell:/Users/bdtmember/Desktop/Python/lists-jup.ipynb#ch0000001?line=15'>16</a>\u001b[0m \u001b[39massert\u001b[39;00m \u001b[39mlist\u001b[39m(replace_first([])) \u001b[39m==\u001b[39m []\n\u001b[1;32m     <a href='vscode-notebook-cell:/Users/bdtmember/Desktop/Python/lists-jup.ipynb#ch0000001?line=16'>17</a>\u001b[0m \u001b[39mprint\u001b[39m(\u001b[39m\"\u001b[39m\u001b[39mCoding complete? Click \u001b[39m\u001b[39m'\u001b[39m\u001b[39mCheck\u001b[39m\u001b[39m'\u001b[39m\u001b[39m to earn cool rewards!\u001b[39m\u001b[39m\"\u001b[39m)\n",
      "\u001b[1;32m/Users/bdtmember/Desktop/Python/lists-jup.ipynb Cell 2'\u001b[0m in \u001b[0;36mreplace_first\u001b[0;34m(items)\u001b[0m\n\u001b[1;32m      <a href='vscode-notebook-cell:/Users/bdtmember/Desktop/Python/lists-jup.ipynb#ch0000001?line=3'>4</a>\u001b[0m \u001b[39mdef\u001b[39;00m \u001b[39mreplace_first\u001b[39m(items: \u001b[39mlist\u001b[39m) \u001b[39m-\u001b[39m\u001b[39m>\u001b[39m Iterable:\n\u001b[0;32m----> <a href='vscode-notebook-cell:/Users/bdtmember/Desktop/Python/lists-jup.ipynb#ch0000001?line=4'>5</a>\u001b[0m             k \u001b[39m=\u001b[39m items[\u001b[39m0\u001b[39;49m]\n\u001b[1;32m      <a href='vscode-notebook-cell:/Users/bdtmember/Desktop/Python/lists-jup.ipynb#ch0000001?line=5'>6</a>\u001b[0m             \u001b[39mreturn\u001b[39;00m [x \u001b[39mfor\u001b[39;00m x \u001b[39min\u001b[39;00m items \u001b[39mif\u001b[39;00m x \u001b[39m!=\u001b[39m k] \u001b[39m+\u001b[39m [k]\n",
      "\u001b[0;31mIndexError\u001b[0m: list index out of range"
     ]
    }
   ],
   "source": [
    "from typing import Iterable\n",
    "#[x for x in items]\n",
    "\n",
    "def replace_first(items: list) -> Iterable:\n",
    "            k = items[0]\n",
    "            return [x for x in items if x != k] + [k]\n",
    "\n",
    "\n",
    "if __name__ == \"__main__\":\n",
    "    print(\"Example:\")\n",
    "    print(list(replace_first([1, 2, 3, 4])))\n",
    "\n",
    "    # These \"asserts\" are used for self-checking and not for an auto-testing\n",
    "    assert list(replace_first([1, 2, 3, 4])) == [2, 3, 4, 1]\n",
    "    assert list(replace_first([1])) == [1]\n",
    "    assert list(replace_first([])) == []\n",
    "    print(\"Coding complete? Click 'Check' to earn cool rewards!\")"
   ]
  },
  {
   "cell_type": "code",
   "execution_count": 2,
   "metadata": {},
   "outputs": [],
   "source": [
    "from typing import Iterable\n",
    "\n",
    "def replace_first(items: list) -> Iterable:\n",
    "            i = items[0]\n",
    "            while i < len(items):\n",
    "                if items[0] != i:\n",
    "                    items.append(i)\n",
    "                    return items"
   ]
  },
  {
   "cell_type": "code",
   "execution_count": 37,
   "metadata": {},
   "outputs": [
    {
     "ename": "TypeError",
     "evalue": "'builtin_function_or_method' object is not subscriptable",
     "output_type": "error",
     "traceback": [
      "\u001b[0;31m---------------------------------------------------------------------------\u001b[0m",
      "\u001b[0;31mTypeError\u001b[0m                                 Traceback (most recent call last)",
      "\u001b[1;32m/Users/bdtmember/Desktop/Python/lists-jup.ipynb Cell 4'\u001b[0m in \u001b[0;36m<cell line: 17>\u001b[0;34m()\u001b[0m\n\u001b[1;32m     <a href='vscode-notebook-cell:/Users/bdtmember/Desktop/Python/lists-jup.ipynb#ch0000003?line=12'>13</a>\u001b[0m     \u001b[39mreturn\u001b[39;00m J\n\u001b[1;32m     <a href='vscode-notebook-cell:/Users/bdtmember/Desktop/Python/lists-jup.ipynb#ch0000003?line=14'>15</a>\u001b[0m \u001b[39m#convert_l(L)\u001b[39;00m\n\u001b[0;32m---> <a href='vscode-notebook-cell:/Users/bdtmember/Desktop/Python/lists-jup.ipynb#ch0000003?line=16'>17</a>\u001b[0m convert_l(L)\n",
      "\u001b[1;32m/Users/bdtmember/Desktop/Python/lists-jup.ipynb Cell 4'\u001b[0m in \u001b[0;36mconvert_l\u001b[0;34m(L)\u001b[0m\n\u001b[1;32m     <a href='vscode-notebook-cell:/Users/bdtmember/Desktop/Python/lists-jup.ipynb#ch0000003?line=9'>10</a>\u001b[0m \u001b[39mdef\u001b[39;00m \u001b[39mconvert_l\u001b[39m(L):\n\u001b[1;32m     <a href='vscode-notebook-cell:/Users/bdtmember/Desktop/Python/lists-jup.ipynb#ch0000003?line=10'>11</a>\u001b[0m     \u001b[39mfor\u001b[39;00m i \u001b[39min\u001b[39;00m \u001b[39mlist\u001b[39m(L):\n\u001b[0;32m---> <a href='vscode-notebook-cell:/Users/bdtmember/Desktop/Python/lists-jup.ipynb#ch0000003?line=11'>12</a>\u001b[0m         J\u001b[39m.\u001b[39;49mappend[i]\n\u001b[1;32m     <a href='vscode-notebook-cell:/Users/bdtmember/Desktop/Python/lists-jup.ipynb#ch0000003?line=12'>13</a>\u001b[0m     \u001b[39mreturn\u001b[39;00m J\n",
      "\u001b[0;31mTypeError\u001b[0m: 'builtin_function_or_method' object is not subscriptable"
     ]
    }
   ],
   "source": [
    "#Here comes a simple one for you - (1 hour limit?)  Given a list of numbers - \n",
    "#How do you convert it to become : [[0, 1, 2, 3], [5, 6, 8], [10, 11, 12]]?\n",
    "#2nd list should be [6,8] -\n",
    "\n",
    "L = [0,1,2,3,6,8,11,12,13]\n",
    "P = [[]]*3\n",
    "J = []\n",
    "B = len(L) / 3\n",
    "\n",
    "def convert_l(L):\n",
    "    for i in list(L):\n",
    "        J.append[i]\n",
    "    return J\n",
    "\n",
    "#convert_l(L)\n",
    "\n",
    "convert_l(L)"
   ]
  }
 ],
 "metadata": {
  "kernelspec": {
   "display_name": "Python 3.10.4 64-bit",
   "language": "python",
   "name": "python3"
  },
  "language_info": {
   "codemirror_mode": {
    "name": "ipython",
    "version": 3
   },
   "file_extension": ".py",
   "mimetype": "text/x-python",
   "name": "python",
   "nbconvert_exporter": "python",
   "pygments_lexer": "ipython3",
   "version": "3.10.4"
  },
  "orig_nbformat": 4,
  "vscode": {
   "interpreter": {
    "hash": "aee8b7b246df8f9039afb4144a1f6fd8d2ca17a180786b69acc140d282b71a49"
   }
  }
 },
 "nbformat": 4,
 "nbformat_minor": 2
}
