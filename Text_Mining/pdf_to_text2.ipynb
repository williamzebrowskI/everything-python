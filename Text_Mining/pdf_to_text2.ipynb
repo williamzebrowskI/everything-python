{
 "cells": [
  {
   "cell_type": "code",
   "execution_count": 1,
   "metadata": {},
   "outputs": [
    {
     "name": "stdout",
     "output_type": "stream",
     "text": [
      "IMPORTANT:  NEXT STEPS TO FINISH YOUR FOOD STAMPS A PPLICATION\n",
      "  \n",
      " \n",
      "You’re almost finished! Your application has been s ubmitted to your \n",
      "local County Assistance Office. \n",
      " \n",
      "Before you can receive benefits you must:\n",
      "  \n",
      " \n",
      "1. COMPLETE AN INTERVIEW WITH A CASE WORKER. \n",
      " \n",
      "A case worker should contact you to schedule an int erview. This can be done in-\n",
      "person or over the phone. You may receive a letter  in the mail with the time and \n",
      "date of your interview, or you may just receive a c all from a case worker. If you do \n",
      "not hear from your case worker  in two weeks, call  and tell them: “I need to \n",
      "schedule an interview for my food stamp application .” \n",
      " \n",
      "Ask for this information when you speak to a case worker: \n",
      " \n",
      "• The name of the case worker:______________________ \n",
      "• Your case worker’s phone number: __________________ \n",
      "• Your Record Number”: ___________________________ \n",
      "• “Do you have all the documents you need from me?” \n",
      "• ”Can you mail me my EBT card?”  \n",
      " \n",
      "2. MAKE SURE THE LOCAL COUNTY ASSISTANCE OFFICE HAS AL L OF \n",
      "YOUR DOCUMENTS \n",
      " \n",
      "Review the checklist that came with this form to se e if you are still missing any \n",
      "documents. You can mail, fax or drop off your docume nts to the local County \n",
      "Assistance Office. If you drop them off, make sure  you ask for a receipt.  \n",
      " \n",
      "\n",
      "The local County Assistance Office must help you ge t your documents! If you \n",
      "\n",
      "do  not  have  a  required  document,  you  may  be  able  to   use  a  “collateral \n",
      "\n",
      "contact.” A collateral contact is someone who can g ive reliable information \n",
      "\n",
      "about you, such as an employer, a neighbor, a landl ord, or a social service \n",
      "\n",
      "agency. \n",
      "Note: You may get a letter saying you are not eligible fo r “expedited” benefits. This \n",
      "is not\n",
      " a food stamp denial letter. Make sure to complete  the steps above. You \n",
      "should hear a response from your local County Assis tance Office within 30 days. \n",
      " \n",
      "IF YOU NEED ANY HELP, PLEASE LET US KNOW!\n",
      " \n",
      "We are here to help! Call BenePhilly at 1-800-236-2 194 if you have any questions. \n"
     ]
    }
   ],
   "source": [
    "from PyPDF2 import PdfReader\n",
    "import re\n",
    "import PyPDF2\n",
    "import pytest\n",
    "import nltk\n",
    "import os\n",
    "\n",
    "reader = PdfReader('benephilly.pdf', 'rb') # Create a PDF reader Object\n",
    "#number_of_pages = len(reader.pages) #number of pages\n",
    "#page = reader.pages[0]   # creating a page object \n",
    "#text = page.extract_text()  # extracting text from page\n",
    "#print(text)"
   ]
  },
  {
   "cell_type": "code",
   "execution_count": 3,
   "metadata": {},
   "outputs": [
    {
     "name": "stdout",
     "output_type": "stream",
     "text": [
      "IMPORTANT:  NEXT STEPS TO FINISH YOUR FOOD STAMPS A PPLICATION\n",
      "  \n",
      " \n",
      "You’re almost finished! Your application has been s ubmitted to your \n",
      "local County Assistance Office. \n",
      " \n",
      "Before you can receive benefits you must:\n",
      "  \n",
      " \n",
      "1. COMPLETE AN INTERVIEW WITH A CASE WORKER. \n",
      " \n",
      "A case worker should contact you to schedule an int erview. This can be done in-\n",
      "person or over the phone. You may receive a letter  in the mail with the time and \n",
      "date of your interview, or you may just receive a c all from a case worker. If you do \n",
      "not hear from your case worker  in two weeks, call  and tell them: “I need to \n",
      "schedule an interview for my food stamp application .” \n",
      " \n",
      "Ask for this information when you speak to a case worker: \n",
      " \n",
      "• The name of the case worker:______________________ \n",
      "• Your case worker’s phone number: __________________ \n",
      "• Your Record Number”: ___________________________ \n",
      "• “Do you have all the documents you need from me?” \n",
      "• ”Can you mail me my EBT card?”  \n",
      " \n",
      "2. MAKE SURE THE LOCAL COUNTY ASSISTANCE OFFICE HAS AL L OF \n",
      "YOUR DOCUMENTS \n",
      " \n",
      "Review the checklist that came with this form to se e if you are still missing any \n",
      "documents. You can mail, fax or drop off your docume nts to the local County \n",
      "Assistance Office. If you drop them off, make sure  you ask for a receipt.  \n",
      " \n",
      "\n",
      "The local County Assistance Office must help you ge t your documents! If you \n",
      "\n",
      "do  not  have  a  required  document,  you  may  be  able  to   use  a  “collateral \n",
      "\n",
      "contact.” A collateral contact is someone who can g ive reliable information \n",
      "\n",
      "about you, such as an employer, a neighbor, a landl ord, or a social service \n",
      "\n",
      "agency. \n",
      "Note: You may get a letter saying you are not eligible fo r “expedited” benefits. This \n",
      "is not\n",
      " a food stamp denial letter. Make sure to complete  the steps above. You \n",
      "should hear a response from your local County Assis tance Office within 30 days. \n",
      " \n",
      "IF YOU NEED ANY HELP, PLEASE LET US KNOW!\n",
      " \n",
      "We are here to help! Call BenePhilly at 1-800-236-2 194 if you have any questions. \n",
      "\n"
     ]
    }
   ],
   "source": [
    "reader = PdfReader('benephilly.pdf', 'rb')\n",
    "\n",
    "text = \"\"\n",
    "for page in reader.pages:\n",
    "    text += page.extract_text() + \"\\n\"\n",
    "\n",
    "print(text)"
   ]
  },
  {
   "cell_type": "code",
   "execution_count": 22,
   "metadata": {},
   "outputs": [
    {
     "ename": "AttributeError",
     "evalue": "'_io.TextIOWrapper' object has no attribute 'strip'",
     "output_type": "error",
     "traceback": [
      "\u001b[0;31m---------------------------------------------------------------------------\u001b[0m",
      "\u001b[0;31mAttributeError\u001b[0m                            Traceback (most recent call last)",
      "\u001b[1;32m/Users/bdtmember/Desktop/Python/Text_Mining/pdf_to_text2.ipynb Cell 3'\u001b[0m in \u001b[0;36m<cell line: 2>\u001b[0;34m()\u001b[0m\n\u001b[1;32m      <a href='vscode-notebook-cell:/Users/bdtmember/Desktop/Python/Text_Mining/pdf_to_text2.ipynb#ch0000002?line=0'>1</a>\u001b[0m clean_file \u001b[39m=\u001b[39m \u001b[39mopen\u001b[39m(\u001b[39m'\u001b[39m\u001b[39mcleanfile.txt\u001b[39m\u001b[39m'\u001b[39m, \u001b[39m'\u001b[39m\u001b[39mwt\u001b[39m\u001b[39m'\u001b[39m)\n\u001b[0;32m----> <a href='vscode-notebook-cell:/Users/bdtmember/Desktop/Python/Text_Mining/pdf_to_text2.ipynb#ch0000002?line=1'>2</a>\u001b[0m cleanedLine \u001b[39m=\u001b[39m clean_file\u001b[39m.\u001b[39;49mstrip()\n\u001b[1;32m      <a href='vscode-notebook-cell:/Users/bdtmember/Desktop/Python/Text_Mining/pdf_to_text2.ipynb#ch0000002?line=2'>3</a>\u001b[0m \u001b[39mprint\u001b[39m(cleanedLine, file\u001b[39m=\u001b[39mclean_file)\n\u001b[1;32m      <a href='vscode-notebook-cell:/Users/bdtmember/Desktop/Python/Text_Mining/pdf_to_text2.ipynb#ch0000002?line=3'>4</a>\u001b[0m clean_file\u001b[39m.\u001b[39mclose()\n",
      "\u001b[0;31mAttributeError\u001b[0m: '_io.TextIOWrapper' object has no attribute 'strip'"
     ]
    }
   ],
   "source": [
    "clean_file = open('cleanfile.txt', 'wt')\n",
    "cleanedLine = clean_file.strip()\n",
    "print(cleanedLine, file=clean_file)\n",
    "clean_file.close()"
   ]
  },
  {
   "cell_type": "code",
   "execution_count": null,
   "metadata": {},
   "outputs": [],
   "source": []
  }
 ],
 "metadata": {
  "kernelspec": {
   "display_name": "Python 3.10.4 64-bit",
   "language": "python",
   "name": "python3"
  },
  "language_info": {
   "codemirror_mode": {
    "name": "ipython",
    "version": 3
   },
   "file_extension": ".py",
   "mimetype": "text/x-python",
   "name": "python",
   "nbconvert_exporter": "python",
   "pygments_lexer": "ipython3",
   "version": "3.10.4"
  },
  "orig_nbformat": 4,
  "vscode": {
   "interpreter": {
    "hash": "aee8b7b246df8f9039afb4144a1f6fd8d2ca17a180786b69acc140d282b71a49"
   }
  }
 },
 "nbformat": 4,
 "nbformat_minor": 2
}
