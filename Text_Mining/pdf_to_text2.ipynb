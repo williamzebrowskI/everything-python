{
 "cells": [
  {
   "cell_type": "code",
   "execution_count": 17,
   "metadata": {},
   "outputs": [],
   "source": [
    "from PyPDF2 import PdfReader\n",
    "import re\n",
    "import PyPDF2\n",
    "import pytest\n",
    "import nltk\n",
    "import os\n",
    "\n",
    "reader = PdfReader('benephilly.pdf', 'rb') # Create a PDF reader Object\n",
    "number_of_pages = len(reader.pages) #number of pages\n",
    "page = reader.pages[0]   # creating a page object \n",
    "text = page.extract_text()  # extracting text from page "
   ]
  },
  {
   "cell_type": "code",
   "execution_count": 23,
   "metadata": {},
   "outputs": [],
   "source": [
    "#print(text)\n",
    "def test_create_txt():\n",
    "    texts = \"We are here to help! Call llkj BenePhilly at 1-800-236-2 194 if you have any questions.\" \n",
    "    convert_file = open('pdfconvert.txt', 'wt')  #creates file\n",
    "    print(text.rstrip(), file=convert_file) # prints text from pdf to new file\n",
    "\n",
    "    convert_file = open('pdfconvert.txt', 'r')\n",
    "    #assert texts in convert_file.read()\n",
    "    convert_file.close()\n",
    "\n",
    "test_create_txt()"
   ]
  },
  {
   "cell_type": "code",
   "execution_count": 22,
   "metadata": {},
   "outputs": [
    {
     "ename": "AttributeError",
     "evalue": "'_io.TextIOWrapper' object has no attribute 'strip'",
     "output_type": "error",
     "traceback": [
      "\u001b[0;31m---------------------------------------------------------------------------\u001b[0m",
      "\u001b[0;31mAttributeError\u001b[0m                            Traceback (most recent call last)",
      "\u001b[1;32m/Users/bdtmember/Desktop/Python/Text_Mining/pdf_to_text2.ipynb Cell 3'\u001b[0m in \u001b[0;36m<cell line: 2>\u001b[0;34m()\u001b[0m\n\u001b[1;32m      <a href='vscode-notebook-cell:/Users/bdtmember/Desktop/Python/Text_Mining/pdf_to_text2.ipynb#ch0000002?line=0'>1</a>\u001b[0m clean_file \u001b[39m=\u001b[39m \u001b[39mopen\u001b[39m(\u001b[39m'\u001b[39m\u001b[39mcleanfile.txt\u001b[39m\u001b[39m'\u001b[39m, \u001b[39m'\u001b[39m\u001b[39mwt\u001b[39m\u001b[39m'\u001b[39m)\n\u001b[0;32m----> <a href='vscode-notebook-cell:/Users/bdtmember/Desktop/Python/Text_Mining/pdf_to_text2.ipynb#ch0000002?line=1'>2</a>\u001b[0m cleanedLine \u001b[39m=\u001b[39m clean_file\u001b[39m.\u001b[39;49mstrip()\n\u001b[1;32m      <a href='vscode-notebook-cell:/Users/bdtmember/Desktop/Python/Text_Mining/pdf_to_text2.ipynb#ch0000002?line=2'>3</a>\u001b[0m \u001b[39mprint\u001b[39m(cleanedLine, file\u001b[39m=\u001b[39mclean_file)\n\u001b[1;32m      <a href='vscode-notebook-cell:/Users/bdtmember/Desktop/Python/Text_Mining/pdf_to_text2.ipynb#ch0000002?line=3'>4</a>\u001b[0m clean_file\u001b[39m.\u001b[39mclose()\n",
      "\u001b[0;31mAttributeError\u001b[0m: '_io.TextIOWrapper' object has no attribute 'strip'"
     ]
    }
   ],
   "source": [
    "clean_file = open('cleanfile.txt', 'wt')\n",
    "cleanedLine = clean_file.strip()\n",
    "print(cleanedLine, file=clean_file)\n",
    "clean_file.close()"
   ]
  },
  {
   "cell_type": "code",
   "execution_count": null,
   "metadata": {},
   "outputs": [],
   "source": []
  }
 ],
 "metadata": {
  "kernelspec": {
   "display_name": "Python 3.10.4 64-bit",
   "language": "python",
   "name": "python3"
  },
  "language_info": {
   "codemirror_mode": {
    "name": "ipython",
    "version": 3
   },
   "file_extension": ".py",
   "mimetype": "text/x-python",
   "name": "python",
   "nbconvert_exporter": "python",
   "pygments_lexer": "ipython3",
   "version": "3.10.4"
  },
  "orig_nbformat": 4,
  "vscode": {
   "interpreter": {
    "hash": "aee8b7b246df8f9039afb4144a1f6fd8d2ca17a180786b69acc140d282b71a49"
   }
  }
 },
 "nbformat": 4,
 "nbformat_minor": 2
}
